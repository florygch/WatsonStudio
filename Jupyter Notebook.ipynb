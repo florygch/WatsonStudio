{
    "cells": [
        {
            "metadata": {
                "collapsed": true
            },
            "cell_type": "markdown",
            "source": "# My Jupyter Notebook on IBM Watson Studio"
        },
        {
            "metadata": {},
            "cell_type": "markdown",
            "source": "**Floribel Gonzalez Chacon**\n\nPsychologist and Data Scientist"
        },
        {
            "metadata": {},
            "cell_type": "markdown",
            "source": "*I'm interested in data science because by using analytical tools it is possible to understand the behavior of people in a certain setting according to certain variables or factors. I am a psychologist so I like to predict behavior and its possible emission or extinction in a context.\nIn addition, through data you can tell stories and communicate ideas about a problem that you want to answer in a valid way.*"
        },
        {
            "metadata": {},
            "cell_type": "markdown",
            "source": "### In the next line (code) the program could print the result of adding two values###"
        },
        {
            "metadata": {},
            "cell_type": "code",
            "source": "print(2+3)",
            "execution_count": 8,
            "outputs": [
                {
                    "output_type": "stream",
                    "text": "5\n",
                    "name": "stdout"
                }
            ]
        },
        {
            "metadata": {},
            "cell_type": "markdown",
            "source": "___Horizontal___\n\nThis is a video in Youtube [Physical by Dua Lipa](https://www.youtube.com/watch?v=9HDEHj2yzew)\n\nImage\n![alt text](https://github.com/adam-p/markdown-here/raw/master/src/common/images/icon48.png \"Logo Title Text 1\")\n\nList\n- One\n- Two\n- Three\n- Four\n\n\nTable\n\n| Name          | Profile       | Country    |\n| ------------- |:-------------:| ----------:|\n| Mary Smith    | Health        | Costa Rica |\n| Charly Black  | Sales         |   Brazil   |\n| Natasha Loft  | Education     |   Russia   |\n| Sebastian Rick| Arts          |    Spain   |"
        }
    ],
    "metadata": {
        "kernelspec": {
            "name": "python3",
            "display_name": "Python 3.6",
            "language": "python"
        },
        "language_info": {
            "name": "python",
            "version": "3.6.9",
            "mimetype": "text/x-python",
            "codemirror_mode": {
                "name": "ipython",
                "version": 3
            },
            "pygments_lexer": "ipython3",
            "nbconvert_exporter": "python",
            "file_extension": ".py"
        }
    },
    "nbformat": 4,
    "nbformat_minor": 1
}